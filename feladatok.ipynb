{
 "cells": [
  {
   "cell_type": "code",
   "execution_count": 1,
   "id": "95025a51",
   "metadata": {},
   "outputs": [
    {
     "name": "stdout",
     "output_type": "stream",
     "text": [
      "Populating the interactive namespace from numpy and matplotlib\n"
     ]
    }
   ],
   "source": [
    "%pylab inline"
   ]
  },
  {
   "cell_type": "code",
   "execution_count": 2,
   "id": "9ae77212",
   "metadata": {},
   "outputs": [],
   "source": [
    "import math\n",
    "import sympy as sp"
   ]
  },
  {
   "cell_type": "markdown",
   "id": "6f8675f3",
   "metadata": {},
   "source": [
    "## 1. feladat\n",
    "A standard lebegőpontos számok típusán értékelje ki a `6e23+2023.-6e23` kifejezést! Mit tapasztal?\n",
    "A problémát javítandó készítsen okos összeadó függvényt, ami tetszőleges\n",
    "elemszámú eltérő nagyságrendbe eső elemekből álló sorozat összegét számolja ki, törekedve\n",
    "a legkisebb numerikus hibára!"
   ]
  },
  {
   "cell_type": "code",
   "execution_count": 3,
   "id": "c19284f7",
   "metadata": {},
   "outputs": [
    {
     "data": {
      "text/plain": [
       "0.0"
      ]
     },
     "execution_count": 3,
     "metadata": {},
     "output_type": "execute_result"
    }
   ],
   "source": [
    "float(6e23)+float(2023.-6e23) #első kiértékelés"
   ]
  },
  {
   "cell_type": "markdown",
   "id": "d8d1903d",
   "metadata": {},
   "source": [
    "Ha csak szimplán elvégezzük a műveleteteket úgy, hogy két összeadandó tag között nagy a nagyságrendbeli eltérés, hibás eredményt kapunk. Jelen esetben is 2023. helyett, 0-át kapunk az output-on."
   ]
  },
  {
   "cell_type": "code",
   "execution_count": 4,
   "id": "456f589b",
   "metadata": {},
   "outputs": [],
   "source": [
    "TestNumbers = [6e23,2023.,-6e23] #fordítva\n",
    "\n",
    "def summationv2(listofnumbers):\n",
    "    '''\n",
    "    A függvények átadott listát, a függvény abszolút érték szerint (\"nagyságrend\") csökkenő sorrendbe állítja,\n",
    "    majd elvégzi az összeadást tagonként.\n",
    "    '''\n",
    "    \n",
    "    sortedlist = sorted(listofnumbers, key = lambda x: abs(x),reverse = True) #A key paraméter, valamint egy lambda függvény segítségével oldottam meg a rendezést.\n",
    "    sumfinal = 0.0\n",
    "    for item in sortedlist:\n",
    "        sumfinal += item\n",
    "    return sumfinal\n",
    "    "
   ]
  },
  {
   "cell_type": "code",
   "execution_count": 5,
   "id": "cbb85e3e",
   "metadata": {},
   "outputs": [
    {
     "data": {
      "text/plain": [
       "2023.0"
      ]
     },
     "execution_count": 5,
     "metadata": {},
     "output_type": "execute_result"
    }
   ],
   "source": [
    "summationv2(TestNumbers)"
   ]
  },
  {
   "cell_type": "markdown",
   "id": "215662a7",
   "metadata": {},
   "source": [
    "## 2. feladat\n",
    "Ábrázolja a $-3\\sqrt{7}$ számot normál alakban, valamint adja meg a kerekítésből adódó abszolút\n",
    "és relatív hibát, ha a lebegőpontos számrendszer paraméterei $(\\beta, p)$ rendre: $(10, 2)$ és $(16, 4)$!\n",
    "Készítse el az átváltó függvényt $\\verb_fpconv(x, b, p)_$!"
   ]
  },
  {
   "cell_type": "markdown",
   "id": "2deff139",
   "metadata": {},
   "source": [
    "## 3. feladat\n",
    "Egy másodfokú egyenlet $\\alpha x^2 + \\beta x + \\gamma = 0$ két gyöke nagyságrendileg eltérő: az együtthatók legyenek rendre 1, $-10^8$ és 1. Az együtthatók ismeretében mi a helyes stratégia, hogy\n",
    "meghatározzuk a gyököket? Mik a helyes gyökök?"
   ]
  },
  {
   "cell_type": "code",
   "execution_count": 6,
   "id": "0d5ef00c",
   "metadata": {},
   "outputs": [
    {
     "name": "stdout",
     "output_type": "stream",
     "text": [
      "X1 =  100000000.0\n",
      "X2 =  1e-08\n"
     ]
    }
   ],
   "source": [
    "# Együtthatók \n",
    "a = 1.0\n",
    "b = -10**8\n",
    "c = 1.0\n",
    "\n",
    "# Előszőr megkerestem a nagyobb megoldást\n",
    "x_large = (-b + math.sqrt(b**2 - 4*a*c)) / (2*a)\n",
    "\n",
    "#x1 * x2 = c / a - Viéte formula\n",
    "x_small = c / (a * x_large)\n",
    "\n",
    "print(\"X1 = \", x_large)\n",
    "print(\"X2 = \", x_small)\n"
   ]
  },
  {
   "cell_type": "markdown",
   "id": "4df92a72",
   "metadata": {},
   "source": [
    "## Ellenőrzés:"
   ]
  },
  {
   "cell_type": "code",
   "execution_count": 7,
   "id": "e850b09f",
   "metadata": {},
   "outputs": [
    {
     "name": "stdout",
     "output_type": "stream",
     "text": [
      "Az egyenlet két valós és különböző gyökkel rendelkezik:\n",
      "x1 = 100000000.0\n",
      "x2 = 7.450580596923828e-09\n"
     ]
    }
   ],
   "source": [
    "\n",
    "a = 1\n",
    "b = -10**8\n",
    "c = 1\n",
    "\n",
    "#diszkrimináns\n",
    "D = b**2 - 4*a*c\n",
    "\n",
    "#pozitív diszkrimináns\n",
    "if D > 0:\n",
    "    x1 = (-b + math.sqrt(D)) / (2*a)\n",
    "    x2 = (-b - math.sqrt(D)) / (2*a)\n",
    "    print(\"Az egyenlet két valós és különböző gyökkel rendelkezik:\")\n",
    "    print(\"x1 =\", x1)\n",
    "    print(\"x2 =\", x2)\n",
    "#diszkrimináns = 0\n",
    "elif D == 0:\n",
    "    x = -b / (2*a)\n",
    "    print(\"Az egyenlet egy valós gyökkel rendelkezik:\")\n",
    "    print(\"x =\", x)\n",
    "#negatív diszkrimináns\n",
    "else:\n",
    "    print(\"Az egyenletnek nincs valós gyöke.\")\n",
    "\n"
   ]
  },
  {
   "cell_type": "markdown",
   "id": "a34b6157",
   "metadata": {},
   "source": [
    "A kalsszikus meogldás során az egyik gyök megegyezett ($10^8$), míg a másik kicsi, és  elhanyagolható különbséget mutat."
   ]
  },
  {
   "cell_type": "markdown",
   "id": "e4308b0b",
   "metadata": {},
   "source": [
    "## 4. feladat\n",
    "A háromszögek területe meghatározható a Héron-képlet segítségével is, ami lapos háromszögek esetén $(a \\approx b + c)$ numerikus hibával terhelt, ezért a következő algebrailag azonos formát használják ilyen esetekre:\n",
    "$\\sqrt{s(s - a)(s - b)(s - c)} = \\frac{1}{4}\\sqrt{(a + (b + c))(c - (a - b))(c + (a - b))(a + (b - c))}$,\n",
    "ahol $s = (a + b + c)/2$. Legyenek az oldalak $a = 9$, $b = c = 4.53$! Mekkora a hiba a\n",
    "$(\\beta, p) = (10, 3)$ rendszerben attól függően, hogy melyik formát használjuk?"
   ]
  },
  {
   "cell_type": "code",
   "execution_count": 8,
   "id": "9ba468b1",
   "metadata": {},
   "outputs": [],
   "source": [
    "a = 9\n",
    "b = c = 4.53\n",
    "s = (a+b+c)/2\n",
    "\n",
    "formula1 = sqrt(s*(s-a)*(s-b)*(s-c))\n",
    "formula2 = 1/4* sqrt((a+(b+c))*(c-(a-b))*(c+(a-b))*(a+(b-c)))"
   ]
  },
  {
   "cell_type": "markdown",
   "id": "a81c2411",
   "metadata": {},
   "source": [
    "# Eredeti eredmények:"
   ]
  },
  {
   "cell_type": "code",
   "execution_count": 9,
   "id": "a337b688",
   "metadata": {},
   "outputs": [
    {
     "name": "stdout",
     "output_type": "stream",
     "text": [
      "2.3421624623412036\n",
      "2.3421624623411685\n"
     ]
    }
   ],
   "source": [
    "print(formula1)\n",
    "print(formula2)"
   ]
  },
  {
   "cell_type": "markdown",
   "id": "a69d6837",
   "metadata": {},
   "source": [
    "# $\\left(\\beta,p\\right) = \\left(10,3\\right)$ rendszer"
   ]
  },
  {
   "cell_type": "code",
   "execution_count": 10,
   "id": "bf27144c",
   "metadata": {},
   "outputs": [],
   "source": [
    "a = round(9,3)\n",
    "b = c = round(4.53,3)\n",
    "\n",
    "#s kiszámítása\n",
    "ab = round(a+b,3)\n",
    "abc = round(ab+c,3)\n",
    "s = round(abc/2,3)\n",
    "\n",
    "multiplicator = round(0.25,3)\n",
    "\n",
    "#Formula1\n",
    "first = round(s-a,3)\n",
    "second = round(s-b,3)\n",
    "third = round(s-c,3)\n",
    "\n",
    "fourth = round(s * first,3)\n",
    "fifth = round(fourth * second,3)\n",
    "sixth = round(fifth * third,3)\n",
    "\n",
    "final = round(sqrt(sixth),3)\n",
    "\n",
    "\n",
    "\n",
    "#Formula2\n",
    "stepone = round(a+(b+c),3)\n",
    "steptwo = round(c-(a-b),3)\n",
    "stepthree = round (c+(a-b),3)\n",
    "stepfour = round (a+(b-c),3)\n",
    "\n",
    "stepfive = round(stepone*steptwo,3)\n",
    "stepsix = round(stepfive*stepthree,3)\n",
    "stepseven = round (stepsix*stepfour,3)\n",
    "\n",
    "stepeight = round(sqrt(stepseven),3)\n",
    "final2 = round(multiplicator * stepeight ,3)               "
   ]
  },
  {
   "cell_type": "code",
   "execution_count": 11,
   "id": "706549f0",
   "metadata": {},
   "outputs": [
    {
     "name": "stdout",
     "output_type": "stream",
     "text": [
      "2.343\n",
      "2.342\n"
     ]
    }
   ],
   "source": [
    "print(final)\n",
    "print(final2)"
   ]
  },
  {
   "cell_type": "markdown",
   "id": "910f5bbd",
   "metadata": {},
   "source": [
    "Kerekítés nélkül mindkét esetben 2.342 körüli értékeket kaptam, viszont amint alkalmazom a kerekítéseket az első formula értékére 2.343 -at kaptam, ami $\\frac{|2.343-2.342|}{2.343} \\cdot 100$ = 0,042 % - os hibát jelent."
   ]
  },
  {
   "cell_type": "markdown",
   "id": "6e8061cf",
   "metadata": {},
   "source": [
    "## 5. feladat\n",
    "A python tárolt állandói között is megtalálható a gépi-$\\epsilon$.  Hogyan\n",
    "olvashatja ki a gépi-$\\epsilon$ értékét pythonból? Az alábbi típusokra térjen ki $\\verb_np.float16_$, $\\verb_numpy.float32_$ és $\\verb_numpy.float64,numpy.float128_$.\n",
    "? E mennyiség ismeretében mondja meg a\n",
    "lebegőpontos számok mantisszája hány biten ábrázolódik az adott rendszerben?\n",
    "\n",
    "Tekinthetünk a gépi-$\\epsilon$-ra úgy, mint a legkisebb szám, ami teljesíti az alábbi relációt:\n",
    "$$1+\\epsilon>1.$$\n",
    "Adjon algoritmust a gépi-$\\epsilon$ meghatározására, adott lebegőpontot típusra!"
   ]
  },
  {
   "cell_type": "code",
   "execution_count": 12,
   "id": "b41b01e8",
   "metadata": {},
   "outputs": [
    {
     "name": "stdout",
     "output_type": "stream",
     "text": [
      "float16 típusú gépi epsilon: 0.0009765625\n",
      "float32 típusú gépi epsilon: 1.1920928955078125e-07\n",
      "float64 típusú gépi epsilon: 2.220446049250313e-16\n",
      "float128 típusú gépi epsilon: 1.084202172485504434e-19\n"
     ]
    }
   ],
   "source": [
    "def calculate_epsilon(datatype):\n",
    "    epsilon = datatype(1.0)  # Kezdeti érték\n",
    "    one = datatype(1.0)\n",
    "\n",
    "    while one + epsilon != one: #for ciklussal végig iterálok és addig felezem az epsilon értékét, el nem jutok addig az értékig, ahol a gép már 1-nek érzékeli epsilon hozzáadása után is.\n",
    "        epsilon /= datatype(2.0)\n",
    "\n",
    "    return epsilon*2 #vissza kell szorzni 2-vel, mert a cikklus végén még a helyes megoldást is megfelezi\n",
    "\n",
    "\n",
    "\n",
    "epsilon_float16 = calculate_epsilon(np.float16) \n",
    "print(\"float16 típusú gépi epsilon:\", epsilon_float16)\n",
    "\n",
    "epsilon_float32 = calculate_epsilon(np.float32)\n",
    "print(\"float32 típusú gépi epsilon:\", epsilon_float32)\n",
    "\n",
    "epsilon_float64 = calculate_epsilon(np.float64)\n",
    "print(\"float64 típusú gépi epsilon:\", epsilon_float64)\n",
    "\n",
    "epsilon_float128 = calculate_epsilon(np.float128)\n",
    "print(\"float128 típusú gépi epsilon:\", epsilon_float128)\n"
   ]
  },
  {
   "cell_type": "code",
   "execution_count": 13,
   "id": "6a2c51ca",
   "metadata": {},
   "outputs": [
    {
     "name": "stdout",
     "output_type": "stream",
     "text": [
      "Gépi epsilon értékek:\n",
      "float16: 0.0009765625\n",
      "float32: 1.1920928955078125e-07\n",
      "float64: 2.220446049250313e-16\n",
      "float128: 1.0842021724855044e-19\n"
     ]
    }
   ],
   "source": [
    "#Ellenőrzés egy beépített függvénnyel\n",
    "eps_float16 = np.finfo(np.float16).eps\n",
    "eps_float32 = np.finfo(np.float32).eps\n",
    "eps_float64 = np.finfo(np.float64).eps\n",
    "eps_float128 = np.finfo(np.float128).eps  \n",
    "\n",
    "print(\"Gépi epsilon értékek:\")\n",
    "print(f\"float16: {eps_float16}\")\n",
    "print(f\"float32: {eps_float32}\")\n",
    "print(f\"float64: {eps_float64}\")\n",
    "print(f\"float128: {eps_float128}\")\n"
   ]
  },
  {
   "cell_type": "code",
   "execution_count": 14,
   "id": "f0b7abeb",
   "metadata": {},
   "outputs": [
    {
     "name": "stdout",
     "output_type": "stream",
     "text": [
      "(0.5, -9)\n",
      "(0.5, -22)\n",
      "(0.5, -51)\n",
      "(0.5, -62)\n"
     ]
    }
   ],
   "source": [
    "#math csomag segítségével megkerestem a mantisszát és az exponenseket\n",
    "print(math.frexp(np.float16(0.0009765625)))\n",
    "print(math.frexp(np.float32(1.1920928955078125e-07)))\n",
    "print(math.frexp(np.float64(2.220446049250313e-16)))\n",
    "print(math.frexp(np.float128(1.0842021724855044e-19)))"
   ]
  },
  {
   "cell_type": "markdown",
   "id": "8ea0aeef",
   "metadata": {},
   "source": [
    "Így már meghatározhatjuk, hogy az adott adattípusok esetén, hány biten tároljuk a mantisszát:\n",
    "\n",
    "* Float16 - 10 bit\n",
    "* Float32 - 23 bit\n",
    "* Float64 - 52 bit\n",
    "* Float128 - 63 bit"
   ]
  },
  {
   "cell_type": "markdown",
   "id": "0e5d6122",
   "metadata": {},
   "source": [
    "## 6. feladat\n",
    "Vizsgálja meg az állandó sebességű pont mozgását. Milyen messze távolodunk el időben? Mit okoz a kerekítési hibák jelenléte?\n",
    "\n",
    "A mozgásegyenlet:\n",
    "$$\\dot{x}=v,$$\n",
    "amelyet diszkretizálva (Euler-módszer) kapjuk:\n",
    "$$x_{n+1}=x_n+v\\Delta t.$$\n",
    "\n",
    "Az egyszerűség kedvéért legyen $v\\Delta t = 1$.\n",
    "\n",
    "Lássuk be, hogy a naïve implementáció az iterációk során számottevő hibát halmoz fel. Használjon $\\verb_numpy.float16_$ típust a vizsgálathoz."
   ]
  },
  {
   "cell_type": "code",
   "execution_count": 15,
   "id": "bb567ebc",
   "metadata": {},
   "outputs": [],
   "source": [
    "def Euler(steps): #teszt verzió - float-al\n",
    "    x = np.zeros(steps+1)\n",
    "    x[0] = 1\n",
    "    for i in range(steps):\n",
    "        x[i+1] = x[i] + 1   \n",
    "    return x"
   ]
  },
  {
   "cell_type": "code",
   "execution_count": 16,
   "id": "3e966fb2",
   "metadata": {},
   "outputs": [],
   "source": [
    "def Eulerv2(steps,v,dt):\n",
    "    x = np.zeros(steps+1, dtype=np.float16)  \n",
    "    x[0] = np.float16(0) \n",
    "    v = np.float16(v)\n",
    "    dt = np.float16(dt)\n",
    "    vdt = v*dt   \n",
    "    \n",
    "    for i in range(steps):\n",
    "        x[i+1] = x[i] + vdt  # Számítás float16 típusban\n",
    "        \n",
    "    return x\n",
    "\n",
    "\n"
   ]
  },
  {
   "cell_type": "code",
   "execution_count": 17,
   "id": "b65cbd72",
   "metadata": {},
   "outputs": [],
   "source": [
    "y = Eulerv2(3000,1,1)"
   ]
  },
  {
   "cell_type": "code",
   "execution_count": 18,
   "id": "99506f52",
   "metadata": {},
   "outputs": [],
   "source": [
    "x = list(range(3001))"
   ]
  },
  {
   "cell_type": "code",
   "execution_count": 19,
   "id": "70da082a",
   "metadata": {},
   "outputs": [
    {
     "data": {
      "text/plain": [
       "[<matplotlib.lines.Line2D at 0x7f4b13a5c8e0>]"
      ]
     },
     "execution_count": 19,
     "metadata": {},
     "output_type": "execute_result"
    },
    {
     "data": {
      "image/png": "[encoded data removed]",
      "text/plain": [
       "<Figure size 720x576 with 1 Axes>"
      ]
     },
     "metadata": {
      "needs_background": "light"
     },
     "output_type": "display_data"
    }
   ],
   "source": [
    "figsize(10,8)\n",
    "plt.xlabel(\"Idő\", size = 15)\n",
    "plt.ylabel(\"Távolság\", size = 15)\n",
    "plt.title(\"A pont eltávolodása az időben\", size = 15)\n",
    "grid(True)\n",
    "plot(x,y)"
   ]
  },
  {
   "cell_type": "markdown",
   "id": "5679e33e",
   "metadata": {},
   "source": [
    "## 7. feladat\n",
    "\n",
    "Az $f$ függvény jobboldali első deriváltját $x$ pontban közelíthetjük a $h$ inkrementumú differenciával, és $h$-val tartunk 0-ba:\n",
    "\n",
    "$$FD:\\quad\\lim_{h\\rightarrow 0}\\, \\frac{f(x+h)-f(x)}{h}.$$\n",
    "\n",
    "Vesse egybe a $\\sin$ függvény közelítő deriváltját az analitikus alakkal:\n",
    "\n",
    "$$E=|FD(\\sin, x, h)-\\cos(x)|.$$\n",
    "\n",
    "Mit tapasztal? Például $x=1$ pontban ábrázolja log-log ploton, hogyan viselkedik a hiba ($E$) $h$ függvényében.\n",
    "Diszkuttálja a tapasztaltakat."
   ]
  },
  {
   "cell_type": "code",
   "execution_count": 20,
   "id": "adeb6dd0",
   "metadata": {},
   "outputs": [],
   "source": [
    "def derivative(function,data,h):\n",
    "    return (function(data+h)-function(data))/h"
   ]
  },
  {
   "cell_type": "code",
   "execution_count": 21,
   "id": "08130f03",
   "metadata": {},
   "outputs": [],
   "source": [
    "E = derivative(sin,1,1) - cos(1)"
   ]
  },
  {
   "cell_type": "code",
   "execution_count": 22,
   "id": "99bb6de2",
   "metadata": {},
   "outputs": [],
   "source": [
    "step = 1000\n",
    "time = list(range(step))\n",
    "hstart = 100\n",
    "h = hstart\n",
    "hs = []\n",
    "y = []\n",
    "for iteration in range(step):\n",
    "    \n",
    "    y.append(derivative(sin,1,h) - cos(1))\n",
    "    hs.append(h)\n",
    "    h-=hstart/step\n",
    "    "
   ]
  },
  {
   "cell_type": "code",
   "execution_count": 23,
   "id": "54fd442a",
   "metadata": {
    "scrolled": false
   },
   "outputs": [
    {
     "data": {
      "text/plain": [
       "[<matplotlib.lines.Line2D at 0x7f4b139e9f10>]"
      ]
     },
     "execution_count": 23,
     "metadata": {},
     "output_type": "execute_result"
    },
    {
     "data": {
      "image/png": "[encoded data removed]",
      "text/plain": [
       "<Figure size 720x576 with 1 Axes>"
      ]
     },
     "metadata": {
      "needs_background": "light"
     },
     "output_type": "display_data"
    }
   ],
   "source": [
    "ylabel(\"E értékei\",size = 15)\n",
    "xlabel(\"h értékei\", size = 15)\n",
    "title(\"h-E függvény\", size = 25)\n",
    "grid(True)\n",
    "plot(hs,y)"
   ]
  },
  {
   "cell_type": "code",
   "execution_count": 24,
   "id": "c6344a7a",
   "metadata": {},
   "outputs": [
    {
     "data": {
      "image/png": "[encoded data removed]",
      "text/plain": [
       "<Figure size 720x576 with 1 Axes>"
      ]
     },
     "metadata": {
      "needs_background": "light"
     },
     "output_type": "display_data"
    }
   ],
   "source": [
    "#Loglog skálázás\n",
    "\n",
    "def derivative(function, data, h):\n",
    "    return (function(data + h) - function(data)) / h\n",
    "\n",
    "step = 10000\n",
    "time = list(range(step))\n",
    "hstart = 100\n",
    "h = hstart\n",
    "hs = []\n",
    "y = []\n",
    "\n",
    "for iteration in range(step):\n",
    "    error = abs(derivative(np.sin, 1, h) - np.cos(1)) #vettem az abszolút értékét, mert a negatív értékeket nem engedte skálázni\n",
    "    y.append(error)\n",
    "    hs.append(h)\n",
    "    h -= hstart / step\n",
    "\n",
    "figsize(10,8)\n",
    "plt.loglog(hs, y)  # Skálázás elvégzése\n",
    "plt.xlabel('h értékei',size = 15 )\n",
    "plt.ylabel('E értékei' , size = 15)\n",
    "plt.title('A h-E függvény log-log skálázása', size = 25)\n",
    "plt.grid(True)\n",
    "plt.show()\n"
   ]
  },
  {
   "cell_type": "markdown",
   "id": "e094e921",
   "metadata": {},
   "source": [
    "Ha $10^0$-nál kisebb nagyságrendű lépésközöket alkalmazunk, akkor lényegesen kisebb hibákat fogunk kapni. Meglepő módón $10^0$ nagyságrendű lépésköz fölött se száll a hiba értéke, hanem egyre kisebb oszcillációval közelít egy bizonyos érték felé."
   ]
  },
  {
   "cell_type": "code",
   "execution_count": null,
   "id": "88f45b6f",
   "metadata": {},
   "outputs": [],
   "source": []
  }
 ],
 "metadata": {
  "kernelspec": {
   "display_name": "Python 3",
   "language": "python",
   "name": "python3"
  },
  "language_info": {
   "codemirror_mode": {
    "name": "ipython",
    "version": 3
   },
   "file_extension": ".py",
   "mimetype": "text/x-python",
   "name": "python",
   "nbconvert_exporter": "python",
   "pygments_lexer": "ipython3",
   "version": "3.8.8"
  }
 },
 "nbformat": 4,
 "nbformat_minor": 5
}
